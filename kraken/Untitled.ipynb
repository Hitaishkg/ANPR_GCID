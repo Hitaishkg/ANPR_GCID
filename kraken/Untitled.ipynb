{
 "cells": [
  {
   "cell_type": "code",
   "execution_count": 1,
   "id": "13b59846",
   "metadata": {},
   "outputs": [
    {
     "name": "stdout",
     "output_type": "stream",
     "text": [
      "Defaulting to user installation because normal site-packages is not writeable\n",
      "Collecting kraken\n",
      "  Using cached kraken-4.3.9-py3-none-any.whl (5.0 MB)\n",
      "Requirement already satisfied: jsonschema in /usr/lib/python3.11/site-packages (from kraken) (4.10.0)\n",
      "Requirement already satisfied: lxml in /usr/lib64/python3.11/site-packages (from kraken) (4.9.1)\n",
      "Requirement already satisfied: requests in /usr/lib/python3.11/site-packages (from kraken) (2.28.1)\n",
      "Requirement already satisfied: click>=8.1 in /usr/lib/python3.11/site-packages (from kraken) (8.1.3)\n",
      "Requirement already satisfied: numpy~=1.23.0 in /home/vybhv/.local/lib/python3.11/site-packages (from kraken) (1.23.5)\n",
      "Requirement already satisfied: Pillow>=9.2.0 in /usr/lib64/python3.11/site-packages (from kraken) (9.2.0)\n",
      "Requirement already satisfied: regex in /usr/lib64/python3.11/site-packages (from kraken) (2022.10.31)\n",
      "Requirement already satisfied: scipy in /home/vybhv/.local/lib/python3.11/site-packages (from kraken) (1.10.1)\n",
      "Requirement already satisfied: protobuf>=3.0.0 in /home/vybhv/.local/lib/python3.11/site-packages (from kraken) (4.22.1)\n",
      "Collecting coremltools~=6.0\n",
      "  Using cached coremltools-6.2.tar.gz (909 kB)\n",
      "  Preparing metadata (setup.py) ... \u001b[?25ldone\n",
      "\u001b[?25hRequirement already satisfied: jinja2~=3.0 in /usr/lib/python3.11/site-packages (from kraken) (3.0.3)\n",
      "Collecting python-bidi\n",
      "  Using cached python_bidi-0.4.2-py2.py3-none-any.whl (30 kB)\n",
      "Collecting torchvision>=0.5.0\n",
      "  Using cached torchvision-0.15.1-cp311-cp311-manylinux1_x86_64.whl (6.0 MB)\n",
      "Collecting torch<1.14,>=1.11\n",
      "Note: you may need to restart the kernel to use updated packages.\n"
     ]
    }
   ],
   "source": [
    "pip install kraken"
   ]
  },
  {
   "cell_type": "code",
   "execution_count": 1,
   "id": "47c1c532",
   "metadata": {},
   "outputs": [
    {
     "name": "stdout",
     "output_type": "stream",
     "text": [
      "Defaulting to user installation because normal site-packages is not writeable\n",
      "Collecting kraken[pdf]\n",
      "  Using cached kraken-4.3.9-py3-none-any.whl (5.0 MB)\n",
      "Requirement already satisfied: jsonschema in /usr/lib/python3.11/site-packages (from kraken[pdf]) (4.10.0)\n",
      "Requirement already satisfied: lxml in /usr/lib64/python3.11/site-packages (from kraken[pdf]) (4.9.1)\n",
      "Requirement already satisfied: requests in /usr/lib/python3.11/site-packages (from kraken[pdf]) (2.28.1)\n",
      "Requirement already satisfied: click>=8.1 in /usr/lib/python3.11/site-packages (from kraken[pdf]) (8.1.3)\n",
      "Requirement already satisfied: numpy~=1.23.0 in /home/vybhv/.local/lib/python3.11/site-packages (from kraken[pdf]) (1.23.5)\n",
      "Requirement already satisfied: Pillow>=9.2.0 in /usr/lib64/python3.11/site-packages (from kraken[pdf]) (9.2.0)\n",
      "Requirement already satisfied: regex in /usr/lib64/python3.11/site-packages (from kraken[pdf]) (2022.10.31)\n",
      "Requirement already satisfied: scipy in /home/vybhv/.local/lib/python3.11/site-packages (from kraken[pdf]) (1.10.1)\n",
      "Requirement already satisfied: protobuf>=3.0.0 in /home/vybhv/.local/lib/python3.11/site-packages (from kraken[pdf]) (4.22.1)\n",
      "Collecting coremltools~=6.0\n",
      "  Using cached coremltools-6.2.tar.gz (909 kB)\n",
      "  Preparing metadata (setup.py) ... \u001b[?25ldone\n",
      "\u001b[?25hRequirement already satisfied: jinja2~=3.0 in /usr/lib/python3.11/site-packages (from kraken[pdf]) (3.0.3)\n",
      "Collecting python-bidi\n",
      "  Using cached python_bidi-0.4.2-py2.py3-none-any.whl (30 kB)\n",
      "Collecting torchvision>=0.5.0\n",
      "  Using cached torchvision-0.15.1-cp311-cp311-manylinux1_x86_64.whl (6.0 MB)\n",
      "Collecting torch<1.14,>=1.11\n",
      "Note: you may need to restart the kernel to use updated packages.\n"
     ]
    }
   ],
   "source": [
    "pip install kraken[pdf]\n"
   ]
  },
  {
   "cell_type": "code",
   "execution_count": 2,
   "id": "72a1c206",
   "metadata": {},
   "outputs": [
    {
     "name": "stdout",
     "output_type": "stream",
     "text": [
      "Defaulting to user installation because normal site-packages is not writeable\n",
      "\u001b[31mERROR: Directory '.[pdf]' is not installable. Neither 'setup.py' nor 'pyproject.toml' found.\u001b[0m\u001b[31m\n",
      "\u001b[0mNote: you may need to restart the kernel to use updated packages.\n"
     ]
    }
   ],
   "source": [
    "pip install .[pdf]\n"
   ]
  },
  {
   "cell_type": "code",
   "execution_count": 2,
   "id": "a9fb73cd",
   "metadata": {},
   "outputs": [
    {
     "name": "stdout",
     "output_type": "stream",
     "text": [
      "Defaulting to user installation because normal site-packages is not writeable\n",
      "\u001b[31mERROR: Directory '.[pdf]' is not installable. Neither 'setup.py' nor 'pyproject.toml' found.\u001b[0m\u001b[31m\n",
      "\u001b[0mNote: you may need to restart the kernel to use updated packages.\n"
     ]
    }
   ],
   "source": [
    "pip install .[pdf]\n"
   ]
  },
  {
   "cell_type": "code",
   "execution_count": 3,
   "id": "dabfda81",
   "metadata": {},
   "outputs": [
    {
     "ename": "SyntaxError",
     "evalue": "invalid syntax (1179242249.py, line 1)",
     "output_type": "error",
     "traceback": [
      "\u001b[0;36m  Cell \u001b[0;32mIn[3], line 1\u001b[0;36m\u001b[0m\n\u001b[0;31m    kraken get 10.5281/zenodo.2577813\u001b[0m\n\u001b[0m           ^\u001b[0m\n\u001b[0;31mSyntaxError\u001b[0m\u001b[0;31m:\u001b[0m invalid syntax\n"
     ]
    }
   ],
   "source": [
    "kraken get 10.5281/zenodo.2577813"
   ]
  },
  {
   "cell_type": "code",
   "execution_count": null,
   "id": "084a6b49",
   "metadata": {},
   "outputs": [],
   "source": []
  }
 ],
 "metadata": {
  "kernelspec": {
   "display_name": "Python 3 (ipykernel)",
   "language": "python",
   "name": "python3"
  },
  "language_info": {
   "codemirror_mode": {
    "name": "ipython",
    "version": 3
   },
   "file_extension": ".py",
   "mimetype": "text/x-python",
   "name": "python",
   "nbconvert_exporter": "python",
   "pygments_lexer": "ipython3",
   "version": "3.11.2"
  }
 },
 "nbformat": 4,
 "nbformat_minor": 5
}
